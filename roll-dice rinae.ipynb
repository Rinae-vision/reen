{
 "cells": [
  {
   "cell_type": "code",
   "execution_count": null,
   "metadata": {},
   "outputs": [
    {
     "name": "stdout",
     "output_type": "stream",
     "text": [
      "Are you ready to roll the dice!!!\n",
      "Welcome to the dice roll game..\n"
     ]
    }
   ],
   "source": [
    "#python dice roll\n",
    "\n",
    "import random # for rolling dice with random numbers each time\n",
    "\n",
    "\n",
    "print(\"Are you ready to roll the dice!!!\") #prints out the statement\n",
    "print(\"Welcome to the dice roll game..\")   #print out the statement\n",
    "\n",
    "roll_dice = input(\"play now!!, Enter y to play or n to quit.\").lower() #calls the user to play or not\n",
    "\n",
    "while dice_roll.lower()  == \"yes\":       #loop that allows the continous of game player\n",
    "    print(\"dice will now roll\")\n",
    "    print(\"dice rolling...\") #print out the staments\n",
    "\n",
    "print(\"random.randit, 1,6\")#A random that will call a dice to roll between the min and max values chosen to be 1-6\n",
    "\n",
    "roll_dice = input(\"click y to roll again or n to quit\")\n",
    "\n",
    "\n",
    "print(\"See you soo!!!, BYE\")\n",
    "\n",
    "\n",
    "\n",
    "\n",
    "\n",
    "\n",
    "\n",
    "    \n",
    "\n",
    "\n",
    "\n"
   ]
  },
  {
   "cell_type": "code",
   "execution_count": null,
   "metadata": {},
   "outputs": [],
   "source": []
  },
  {
   "cell_type": "code",
   "execution_count": null,
   "metadata": {},
   "outputs": [],
   "source": []
  }
 ],
 "metadata": {
  "kernelspec": {
   "display_name": "Python 3",
   "language": "python",
   "name": "python3"
  }
 },
 "nbformat": 4,
 "nbformat_minor": 4
}
